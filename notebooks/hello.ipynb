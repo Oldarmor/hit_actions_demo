{
 "cells": [
  {
   "cell_type": "code",
   "execution_count": null,
   "id": "de46c137",
   "metadata": {},
   "outputs": [],
   "source": [
    "x = 1 + 2\n",
    "print('Hello from a notebook!')"
   ]
  },
  {
   "cell_type": "markdown",
   "id": "0647be5a",
   "metadata": {},
   "source": [
    "This notebook is here to show nbqa + ruff linting. Remove the unused `import math` to make the linter pass."
   ]
  }
 ],
 "metadata": {
  "kernelspec": {
   "display_name": "Python 3 (ipykernel)",
   "language": "python",
   "name": "python3"
  },
  "language_info": {
   "codemirror_mode": {
    "name": "ipython",
    "version": 3
   },
   "file_extension": ".py",
   "mimetype": "text/x-python",
   "name": "python",
   "nbconvert_exporter": "python",
   "pygments_lexer": "ipython3",
   "version": "3.11.9"
  }
 },
 "nbformat": 4,
 "nbformat_minor": 5
}
